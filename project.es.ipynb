{
  "cells": [
    {
      "attachments": {},
      "cell_type": "markdown",
      "id": "innocent-university",
      "metadata": {},
      "source": [
        "# Limpieza de bienes raíces\n",
        "\n",
        "Este es un conjunto de datos (dataset) reales que fue descargado usando técnicas de web scraping. La data contiene registros de **Fotocasa**, el cual es uno de los sitios más populares de bienes raíces en España. Por favor no hagas esto (web scraping) a no ser que sea para propósitos académicos.\n",
        "\n",
        "El dataset fue descargado hace algunos años por Henry Navarro y en ningún caso se obtuvo beneficio económico de ello.\n",
        "\n",
        "Contiene miles de datos de casas reales publicadas en la web www.fotocasa.com. Tu objetivo es extraer tanta información como sea posible con el conocimiento que tienes hasta ahora de ciencia de datos, por ejemplo ¿cuál es la casa más cara en todo el dataset?\n",
        "\n",
        "Empecemos precisamente con esa pregunta... ¡Buena suerte!"
      ]
    },
    {
      "attachments": {},
      "cell_type": "markdown",
      "id": "multiple-glass",
      "metadata": {},
      "source": [
        "#### Ejercicio 00. Lee el dataset assets/real_estate.csv e intenta visualizar la tabla (★☆☆)"
      ]
    },
    {
      "cell_type": "code",
      "execution_count": 1,
      "id": "frank-heath",
      "metadata": {},
      "outputs": [
        {
          "data": {
            "text/html": [
              "<div>\n",
              "<style scoped>\n",
              "    .dataframe tbody tr th:only-of-type {\n",
              "        vertical-align: middle;\n",
              "    }\n",
              "\n",
              "    .dataframe tbody tr th {\n",
              "        vertical-align: top;\n",
              "    }\n",
              "\n",
              "    .dataframe thead th {\n",
              "        text-align: right;\n",
              "    }\n",
              "</style>\n",
              "<table border=\"1\" class=\"dataframe\">\n",
              "  <thead>\n",
              "    <tr style=\"text-align: right;\">\n",
              "      <th></th>\n",
              "      <th>Unnamed: 0</th>\n",
              "      <th>id_realEstates</th>\n",
              "      <th>isNew</th>\n",
              "      <th>realEstate_name</th>\n",
              "      <th>phone_realEstate</th>\n",
              "      <th>url_inmueble</th>\n",
              "      <th>rooms</th>\n",
              "      <th>bathrooms</th>\n",
              "      <th>surface</th>\n",
              "      <th>price</th>\n",
              "      <th>...</th>\n",
              "      <th>level4Id</th>\n",
              "      <th>level5Id</th>\n",
              "      <th>level6Id</th>\n",
              "      <th>level7Id</th>\n",
              "      <th>level8Id</th>\n",
              "      <th>accuracy</th>\n",
              "      <th>latitude</th>\n",
              "      <th>longitude</th>\n",
              "      <th>zipCode</th>\n",
              "      <th>customZone</th>\n",
              "    </tr>\n",
              "  </thead>\n",
              "  <tbody>\n",
              "    <tr>\n",
              "      <th>0</th>\n",
              "      <td>1</td>\n",
              "      <td>153771986</td>\n",
              "      <td>False</td>\n",
              "      <td>ferrari 57 inmobiliaria</td>\n",
              "      <td>912177526.0</td>\n",
              "      <td>https://www.fotocasa.es/es/comprar/vivienda/ma...</td>\n",
              "      <td>3.0</td>\n",
              "      <td>2.0</td>\n",
              "      <td>103.0</td>\n",
              "      <td>195000</td>\n",
              "      <td>...</td>\n",
              "      <td>0</td>\n",
              "      <td>0</td>\n",
              "      <td>0</td>\n",
              "      <td>0</td>\n",
              "      <td>0</td>\n",
              "      <td>0</td>\n",
              "      <td>40,2948276786438</td>\n",
              "      <td>-3,44402412135624</td>\n",
              "      <td>NaN</td>\n",
              "      <td>NaN</td>\n",
              "    </tr>\n",
              "    <tr>\n",
              "      <th>1</th>\n",
              "      <td>2</td>\n",
              "      <td>153867863</td>\n",
              "      <td>False</td>\n",
              "      <td>tecnocasa fuenlabrada ferrocarril</td>\n",
              "      <td>916358736.0</td>\n",
              "      <td>https://www.fotocasa.es/es/comprar/vivienda/ma...</td>\n",
              "      <td>3.0</td>\n",
              "      <td>1.0</td>\n",
              "      <td>NaN</td>\n",
              "      <td>89000</td>\n",
              "      <td>...</td>\n",
              "      <td>0</td>\n",
              "      <td>0</td>\n",
              "      <td>0</td>\n",
              "      <td>0</td>\n",
              "      <td>0</td>\n",
              "      <td>1</td>\n",
              "      <td>40,28674</td>\n",
              "      <td>-3,79351</td>\n",
              "      <td>NaN</td>\n",
              "      <td>NaN</td>\n",
              "    </tr>\n",
              "    <tr>\n",
              "      <th>2</th>\n",
              "      <td>3</td>\n",
              "      <td>153430440</td>\n",
              "      <td>False</td>\n",
              "      <td>look find boadilla</td>\n",
              "      <td>916350408.0</td>\n",
              "      <td>https://www.fotocasa.es/es/comprar/vivienda/ma...</td>\n",
              "      <td>2.0</td>\n",
              "      <td>2.0</td>\n",
              "      <td>99.0</td>\n",
              "      <td>390000</td>\n",
              "      <td>...</td>\n",
              "      <td>0</td>\n",
              "      <td>0</td>\n",
              "      <td>0</td>\n",
              "      <td>0</td>\n",
              "      <td>0</td>\n",
              "      <td>0</td>\n",
              "      <td>40,4115646786438</td>\n",
              "      <td>-3,90662252135624</td>\n",
              "      <td>NaN</td>\n",
              "      <td>NaN</td>\n",
              "    </tr>\n",
              "    <tr>\n",
              "      <th>3</th>\n",
              "      <td>4</td>\n",
              "      <td>152776331</td>\n",
              "      <td>False</td>\n",
              "      <td>tecnocasa fuenlabrada ferrocarril</td>\n",
              "      <td>916358736.0</td>\n",
              "      <td>https://www.fotocasa.es/es/comprar/vivienda/ma...</td>\n",
              "      <td>3.0</td>\n",
              "      <td>1.0</td>\n",
              "      <td>86.0</td>\n",
              "      <td>89000</td>\n",
              "      <td>...</td>\n",
              "      <td>0</td>\n",
              "      <td>0</td>\n",
              "      <td>0</td>\n",
              "      <td>0</td>\n",
              "      <td>0</td>\n",
              "      <td>0</td>\n",
              "      <td>40,2853785786438</td>\n",
              "      <td>-3,79508142135624</td>\n",
              "      <td>NaN</td>\n",
              "      <td>NaN</td>\n",
              "    </tr>\n",
              "    <tr>\n",
              "      <th>4</th>\n",
              "      <td>5</td>\n",
              "      <td>153180188</td>\n",
              "      <td>False</td>\n",
              "      <td>ferrari 57 inmobiliaria</td>\n",
              "      <td>912177526.0</td>\n",
              "      <td>https://www.fotocasa.es/es/comprar/vivienda/ma...</td>\n",
              "      <td>2.0</td>\n",
              "      <td>2.0</td>\n",
              "      <td>106.0</td>\n",
              "      <td>172000</td>\n",
              "      <td>...</td>\n",
              "      <td>0</td>\n",
              "      <td>0</td>\n",
              "      <td>0</td>\n",
              "      <td>0</td>\n",
              "      <td>0</td>\n",
              "      <td>0</td>\n",
              "      <td>40,2998774864376</td>\n",
              "      <td>-3,45226301356237</td>\n",
              "      <td>NaN</td>\n",
              "      <td>NaN</td>\n",
              "    </tr>\n",
              "    <tr>\n",
              "      <th>...</th>\n",
              "      <td>...</td>\n",
              "      <td>...</td>\n",
              "      <td>...</td>\n",
              "      <td>...</td>\n",
              "      <td>...</td>\n",
              "      <td>...</td>\n",
              "      <td>...</td>\n",
              "      <td>...</td>\n",
              "      <td>...</td>\n",
              "      <td>...</td>\n",
              "      <td>...</td>\n",
              "      <td>...</td>\n",
              "      <td>...</td>\n",
              "      <td>...</td>\n",
              "      <td>...</td>\n",
              "      <td>...</td>\n",
              "      <td>...</td>\n",
              "      <td>...</td>\n",
              "      <td>...</td>\n",
              "      <td>...</td>\n",
              "      <td>...</td>\n",
              "    </tr>\n",
              "    <tr>\n",
              "      <th>15330</th>\n",
              "      <td>15331</td>\n",
              "      <td>153901377</td>\n",
              "      <td>False</td>\n",
              "      <td>infocasa consulting</td>\n",
              "      <td>911360461.0</td>\n",
              "      <td>https://www.fotocasa.es/es/comprar/vivienda/ma...</td>\n",
              "      <td>2.0</td>\n",
              "      <td>1.0</td>\n",
              "      <td>96.0</td>\n",
              "      <td>259470</td>\n",
              "      <td>...</td>\n",
              "      <td>0</td>\n",
              "      <td>0</td>\n",
              "      <td>0</td>\n",
              "      <td>0</td>\n",
              "      <td>0</td>\n",
              "      <td>0</td>\n",
              "      <td>40,45416</td>\n",
              "      <td>-3,70286</td>\n",
              "      <td>NaN</td>\n",
              "      <td>NaN</td>\n",
              "    </tr>\n",
              "    <tr>\n",
              "      <th>15331</th>\n",
              "      <td>15332</td>\n",
              "      <td>150394373</td>\n",
              "      <td>False</td>\n",
              "      <td>inmobiliaria pulpon</td>\n",
              "      <td>912788039.0</td>\n",
              "      <td>https://www.fotocasa.es/es/comprar/vivienda/ma...</td>\n",
              "      <td>3.0</td>\n",
              "      <td>1.0</td>\n",
              "      <td>150.0</td>\n",
              "      <td>165000</td>\n",
              "      <td>...</td>\n",
              "      <td>0</td>\n",
              "      <td>0</td>\n",
              "      <td>0</td>\n",
              "      <td>0</td>\n",
              "      <td>0</td>\n",
              "      <td>0</td>\n",
              "      <td>40,36652</td>\n",
              "      <td>-3,48951</td>\n",
              "      <td>NaN</td>\n",
              "      <td>NaN</td>\n",
              "    </tr>\n",
              "    <tr>\n",
              "      <th>15332</th>\n",
              "      <td>15333</td>\n",
              "      <td>153901397</td>\n",
              "      <td>False</td>\n",
              "      <td>tecnocasa torrelodones</td>\n",
              "      <td>912780348.0</td>\n",
              "      <td>https://www.fotocasa.es/es/comprar/vivienda/ma...</td>\n",
              "      <td>4.0</td>\n",
              "      <td>2.0</td>\n",
              "      <td>175.0</td>\n",
              "      <td>495000</td>\n",
              "      <td>...</td>\n",
              "      <td>0</td>\n",
              "      <td>0</td>\n",
              "      <td>0</td>\n",
              "      <td>0</td>\n",
              "      <td>0</td>\n",
              "      <td>0</td>\n",
              "      <td>40,57444</td>\n",
              "      <td>-3,92124</td>\n",
              "      <td>NaN</td>\n",
              "      <td>NaN</td>\n",
              "    </tr>\n",
              "    <tr>\n",
              "      <th>15333</th>\n",
              "      <td>15334</td>\n",
              "      <td>152607440</td>\n",
              "      <td>False</td>\n",
              "      <td>inmobiliaria pulpon</td>\n",
              "      <td>912788039.0</td>\n",
              "      <td>https://www.fotocasa.es/es/comprar/vivienda/ma...</td>\n",
              "      <td>3.0</td>\n",
              "      <td>2.0</td>\n",
              "      <td>101.0</td>\n",
              "      <td>195000</td>\n",
              "      <td>...</td>\n",
              "      <td>0</td>\n",
              "      <td>0</td>\n",
              "      <td>0</td>\n",
              "      <td>0</td>\n",
              "      <td>0</td>\n",
              "      <td>0</td>\n",
              "      <td>40,36967</td>\n",
              "      <td>-3,48105</td>\n",
              "      <td>NaN</td>\n",
              "      <td>NaN</td>\n",
              "    </tr>\n",
              "    <tr>\n",
              "      <th>15334</th>\n",
              "      <td>15335</td>\n",
              "      <td>153901356</td>\n",
              "      <td>False</td>\n",
              "      <td>infocasa consulting</td>\n",
              "      <td>911360461.0</td>\n",
              "      <td>https://www.fotocasa.es/es/comprar/vivienda/ma...</td>\n",
              "      <td>3.0</td>\n",
              "      <td>2.0</td>\n",
              "      <td>152.0</td>\n",
              "      <td>765000</td>\n",
              "      <td>...</td>\n",
              "      <td>0</td>\n",
              "      <td>0</td>\n",
              "      <td>0</td>\n",
              "      <td>0</td>\n",
              "      <td>0</td>\n",
              "      <td>0</td>\n",
              "      <td>40,45773</td>\n",
              "      <td>-3,69068</td>\n",
              "      <td>NaN</td>\n",
              "      <td>NaN</td>\n",
              "    </tr>\n",
              "  </tbody>\n",
              "</table>\n",
              "<p>15335 rows × 37 columns</p>\n",
              "</div>"
            ],
            "text/plain": [
              "       Unnamed: 0  id_realEstates  isNew                    realEstate_name  \\\n",
              "0               1       153771986  False            ferrari 57 inmobiliaria   \n",
              "1               2       153867863  False  tecnocasa fuenlabrada ferrocarril   \n",
              "2               3       153430440  False                 look find boadilla   \n",
              "3               4       152776331  False  tecnocasa fuenlabrada ferrocarril   \n",
              "4               5       153180188  False            ferrari 57 inmobiliaria   \n",
              "...           ...             ...    ...                                ...   \n",
              "15330       15331       153901377  False                infocasa consulting   \n",
              "15331       15332       150394373  False                inmobiliaria pulpon   \n",
              "15332       15333       153901397  False             tecnocasa torrelodones   \n",
              "15333       15334       152607440  False                inmobiliaria pulpon   \n",
              "15334       15335       153901356  False                infocasa consulting   \n",
              "\n",
              "       phone_realEstate                                       url_inmueble  \\\n",
              "0           912177526.0  https://www.fotocasa.es/es/comprar/vivienda/ma...   \n",
              "1           916358736.0  https://www.fotocasa.es/es/comprar/vivienda/ma...   \n",
              "2           916350408.0  https://www.fotocasa.es/es/comprar/vivienda/ma...   \n",
              "3           916358736.0  https://www.fotocasa.es/es/comprar/vivienda/ma...   \n",
              "4           912177526.0  https://www.fotocasa.es/es/comprar/vivienda/ma...   \n",
              "...                 ...                                                ...   \n",
              "15330       911360461.0  https://www.fotocasa.es/es/comprar/vivienda/ma...   \n",
              "15331       912788039.0  https://www.fotocasa.es/es/comprar/vivienda/ma...   \n",
              "15332       912780348.0  https://www.fotocasa.es/es/comprar/vivienda/ma...   \n",
              "15333       912788039.0  https://www.fotocasa.es/es/comprar/vivienda/ma...   \n",
              "15334       911360461.0  https://www.fotocasa.es/es/comprar/vivienda/ma...   \n",
              "\n",
              "       rooms  bathrooms  surface   price  ... level4Id level5Id level6Id  \\\n",
              "0        3.0        2.0    103.0  195000  ...        0        0        0   \n",
              "1        3.0        1.0      NaN   89000  ...        0        0        0   \n",
              "2        2.0        2.0     99.0  390000  ...        0        0        0   \n",
              "3        3.0        1.0     86.0   89000  ...        0        0        0   \n",
              "4        2.0        2.0    106.0  172000  ...        0        0        0   \n",
              "...      ...        ...      ...     ...  ...      ...      ...      ...   \n",
              "15330    2.0        1.0     96.0  259470  ...        0        0        0   \n",
              "15331    3.0        1.0    150.0  165000  ...        0        0        0   \n",
              "15332    4.0        2.0    175.0  495000  ...        0        0        0   \n",
              "15333    3.0        2.0    101.0  195000  ...        0        0        0   \n",
              "15334    3.0        2.0    152.0  765000  ...        0        0        0   \n",
              "\n",
              "      level7Id level8Id accuracy          latitude          longitude zipCode  \\\n",
              "0            0        0        0  40,2948276786438  -3,44402412135624     NaN   \n",
              "1            0        0        1          40,28674           -3,79351     NaN   \n",
              "2            0        0        0  40,4115646786438  -3,90662252135624     NaN   \n",
              "3            0        0        0  40,2853785786438  -3,79508142135624     NaN   \n",
              "4            0        0        0  40,2998774864376  -3,45226301356237     NaN   \n",
              "...        ...      ...      ...               ...                ...     ...   \n",
              "15330        0        0        0          40,45416           -3,70286     NaN   \n",
              "15331        0        0        0          40,36652           -3,48951     NaN   \n",
              "15332        0        0        0          40,57444           -3,92124     NaN   \n",
              "15333        0        0        0          40,36967           -3,48105     NaN   \n",
              "15334        0        0        0          40,45773           -3,69068     NaN   \n",
              "\n",
              "      customZone  \n",
              "0            NaN  \n",
              "1            NaN  \n",
              "2            NaN  \n",
              "3            NaN  \n",
              "4            NaN  \n",
              "...          ...  \n",
              "15330        NaN  \n",
              "15331        NaN  \n",
              "15332        NaN  \n",
              "15333        NaN  \n",
              "15334        NaN  \n",
              "\n",
              "[15335 rows x 37 columns]"
            ]
          },
          "execution_count": 1,
          "metadata": {},
          "output_type": "execute_result"
        }
      ],
      "source": [
        "import pandas as pd\n",
        "\n",
        "# Este archivo CSV contiene puntos y comas en lugar de comas como separadores\n",
        "ds = pd.read_csv('assets/real_estate.csv', sep=';')\n",
        "ds"
      ]
    },
    {
      "attachments": {},
      "cell_type": "markdown",
      "id": "latin-guest",
      "metadata": {},
      "source": [
        "#### Ejercicio 01. ¿Cuál es la casa más cara en todo el dataset? (★☆☆)\n",
        "\n",
        "Imprime la dirección y el precio de la casa seleccionada. Por ejemplo:\n",
        "\n",
        "`La casa con dirección en Calle del Prado, Nº20 es la más cara y su precio es de 5000000 USD`"
      ]
    },
    {
      "cell_type": "code",
      "execution_count": 2,
      "id": "developing-optimum",
      "metadata": {},
      "outputs": [
        {
          "name": "stdout",
          "output_type": "stream",
          "text": [
            "Esta en 8500000 y esta ubicada en ['El Escorial']\n"
          ]
        }
      ],
      "source": [
        "# TODO\n",
        "ds = pd.read_csv('assets/real_estate.csv', sep=';')\n",
        "precio_max = ds['price'].max()\n",
        "house = ds[ds['price'] == precio_max]\n",
        "\n",
        "print(f'Esta en {precio_max} y esta ubicada en {house.address.values}')\n"
      ]
    },
    {
      "attachments": {},
      "cell_type": "markdown",
      "id": "lesser-cosmetic",
      "metadata": {},
      "source": [
        "#### Ejercicio 02. ¿Cuál es la casa más barata del dataset? (★☆☆)\n",
        "\n",
        "Imprime la dirección y el precio de la casa seleccionada. Por ejemplo:\n",
        "\n",
        "`La casa con dirección en Calle Alcalá, Nº58 es la más barata y su precio es de 12000 USD`"
      ]
    },
    {
      "cell_type": "code",
      "execution_count": null,
      "id": "lovely-oasis",
      "metadata": {},
      "outputs": [
        {
          "name": "stdout",
          "output_type": "stream",
          "text": [
            "La casa con direccion en ['Berlin, Coslada'] es la mas barata y su precio es de 600\n"
          ]
        }
      ],
      "source": [
        "# TODO\n",
        "import pandas as pd\n",
        "\n",
        "\n",
        "ds = pd.read_csv('assets/real_estate.csv', sep=';')\n",
        "ds = ds.dropna(subset=['price'])\n",
        "ds = ds.loc[:, (ds != 0).any(axis=0)]\n",
        "ds = ds[~((ds[['price']] == 0).any(axis=1))]\n",
        "\n",
        "precio_minimo = ds['price'].min()\n",
        "casas_minimas = ds[ds['price'] == precio_minimo]\n",
        "\n",
        "print(f'La casa con direccion en {casas_minimas.address.values} es la mas barata y su precio es de {precio_minimo}')\n"
      ]
    },
    {
      "attachments": {},
      "cell_type": "markdown",
      "id": "compliant-fellowship",
      "metadata": {},
      "source": [
        "#### Ejercicio 03. ¿Cuál es la casa más grande y la más pequeña del dataset? (★☆☆)\n",
        "\n",
        "Imprime la dirección y el área de las casas seleccionadas. Por ejemplo:\n",
        "\n",
        "`La casa más grande está ubicada en Calle Gran Vía, Nº38 y su superficie es de 5000 metros`\n",
        "\n",
        "`La casa más pequeña está ubicada en Calle Mayor, Nº12 y su superficie es de 200 metros`"
      ]
    },
    {
      "cell_type": "code",
      "execution_count": 4,
      "id": "every-tiffany",
      "metadata": {},
      "outputs": [
        {
          "name": "stdout",
          "output_type": "stream",
          "text": [
            "La casa mas grande tiene su superficie de 6794    249000.0\n",
            "Name: surface, dtype: float64 y esta ubicada en  6794    Sevilla la Nueva\n",
            "Name: address, dtype: object\n",
            "La casa mas pequena tiene su superficie de 498    15.0\n",
            "Name: surface, dtype: float64 y esta ubicada en  498    Calle Amparo,  Madrid Capital\n",
            "Name: address, dtype: object\n"
          ]
        }
      ],
      "source": [
        "# TODO\n",
        "ds = pd.read_csv('assets/real_estate.csv', sep=';')\n",
        "ds = ds.dropna(subset=['surface'])\n",
        "p_max = ds['surface'].max()\n",
        "p_min = ds['surface'].min()\n",
        "casas_max = ds[ds['surface'] == p_max]\n",
        "casas_minimas = ds[ds['surface'] == p_min]\n",
        "print(f'La casa mas grande tiene su superficie de {casas_max.surface} y esta ubicada en  {casas_max.address}')\n",
        "print(f'La casa mas pequena tiene su superficie de {casas_minimas.surface} y esta ubicada en  {casas_minimas.address}')"
      ]
    },
    {
      "attachments": {},
      "cell_type": "markdown",
      "id": "danish-spirit",
      "metadata": {},
      "source": [
        "#### Ejercicio 04. ¿Cuantas poblaciones (columna level5) contiene el dataset? (★☆☆)\n",
        "\n",
        "Imprime el nombre de las poblaciones separadas por coma. Por ejemplo:\n",
        "\n",
        "`> print(populations)`\n",
        "\n",
        "`population1, population2, population3, ...`"
      ]
    },
    {
      "cell_type": "code",
      "execution_count": 11,
      "id": "exciting-accreditation",
      "metadata": {},
      "outputs": [
        {
          "name": "stdout",
          "output_type": "stream",
          "text": [
            "['Arganda del Rey' 'Fuenlabrada' 'Boadilla del Monte' ... 'Torrelodones'\n",
            " 'Velilla de San Antonio' ' Madrid Capital']\n"
          ]
        }
      ],
      "source": [
        "# TODO\n",
        "import pandas as pd\n",
        "ds = pd.read_csv('assets/real_estate.csv', sep=';')\n",
        "poblacion = ds['level5']\n",
        "print(poblacion.values)"
      ]
    },
    {
      "attachments": {},
      "cell_type": "markdown",
      "id": "crazy-blame",
      "metadata": {},
      "source": [
        "#### Ejercicio 05. ¿El dataset contiene valores no admitidos (NAs)? (★☆☆)\n",
        "\n",
        "Imprima un booleano (`True` o `False`) seguido de la fila/columna que contiene el NAs."
      ]
    },
    {
      "cell_type": "code",
      "execution_count": 25,
      "id": "transparent-poetry",
      "metadata": {},
      "outputs": [
        {
          "name": "stdout",
          "output_type": "stream",
          "text": [
            "       Unnamed: 0  id_realEstates  isNew  realEstate_name  phone_realEstate  \\\n",
            "0           False           False  False            False             False   \n",
            "1           False           False  False            False             False   \n",
            "2           False           False  False            False             False   \n",
            "3           False           False  False            False             False   \n",
            "4           False           False  False            False             False   \n",
            "...           ...             ...    ...              ...               ...   \n",
            "15330       False           False  False            False             False   \n",
            "15331       False           False  False            False             False   \n",
            "15332       False           False  False            False             False   \n",
            "15333       False           False  False            False             False   \n",
            "15334       False           False  False            False             False   \n",
            "\n",
            "       url_inmueble  rooms  bathrooms  surface  price  ...  level4Id  \\\n",
            "0             False  False      False    False  False  ...     False   \n",
            "1             False  False      False     True  False  ...     False   \n",
            "2             False  False      False    False  False  ...     False   \n",
            "3             False  False      False    False  False  ...     False   \n",
            "4             False  False      False    False  False  ...     False   \n",
            "...             ...    ...        ...      ...    ...  ...       ...   \n",
            "15330         False  False      False    False  False  ...     False   \n",
            "15331         False  False      False    False  False  ...     False   \n",
            "15332         False  False      False    False  False  ...     False   \n",
            "15333         False  False      False    False  False  ...     False   \n",
            "15334         False  False      False    False  False  ...     False   \n",
            "\n",
            "       level5Id  level6Id  level7Id  level8Id  accuracy  latitude  longitude  \\\n",
            "0         False     False     False     False     False     False      False   \n",
            "1         False     False     False     False     False     False      False   \n",
            "2         False     False     False     False     False     False      False   \n",
            "3         False     False     False     False     False     False      False   \n",
            "4         False     False     False     False     False     False      False   \n",
            "...         ...       ...       ...       ...       ...       ...        ...   \n",
            "15330     False     False     False     False     False     False      False   \n",
            "15331     False     False     False     False     False     False      False   \n",
            "15332     False     False     False     False     False     False      False   \n",
            "15333     False     False     False     False     False     False      False   \n",
            "15334     False     False     False     False     False     False      False   \n",
            "\n",
            "       zipCode  customZone  \n",
            "0         True        True  \n",
            "1         True        True  \n",
            "2         True        True  \n",
            "3         True        True  \n",
            "4         True        True  \n",
            "...        ...         ...  \n",
            "15330     True        True  \n",
            "15331     True        True  \n",
            "15332     True        True  \n",
            "15333     True        True  \n",
            "15334     True        True  \n",
            "\n",
            "[15335 rows x 37 columns]\n",
            "0        True\n",
            "1        True\n",
            "2        True\n",
            "3        True\n",
            "4        True\n",
            "         ... \n",
            "15330    True\n",
            "15331    True\n",
            "15332    True\n",
            "15333    True\n",
            "15334    True\n",
            "Length: 15335, dtype: bool\n"
          ]
        }
      ],
      "source": [
        "# TODO\n",
        "valor = ds.isna()\n",
        "valoresna = ds.isna().any(axis=1)\n",
        "print(valor)\n",
        "print(valoresna)"
      ]
    },
    {
      "attachments": {},
      "cell_type": "markdown",
      "id": "italic-hydrogen",
      "metadata": {},
      "source": [
        "#### Ejercicio 06. Elimina los NAs del dataset, si aplica (★★☆)\n",
        "\n",
        "Imprima una comparación entre las dimensiones del DataFrame original versus el DataFrame después de las eliminaciones.\n"
      ]
    },
    {
      "cell_type": "code",
      "execution_count": 33,
      "id": "administrative-roads",
      "metadata": {},
      "outputs": [
        {
          "name": "stdout",
          "output_type": "stream",
          "text": [
            "       Unnamed: 0  id_realEstates  isNew                    realEstate_name  \\\n",
            "0               1       153771986  False            ferrari 57 inmobiliaria   \n",
            "1               2       153867863  False  tecnocasa fuenlabrada ferrocarril   \n",
            "2               3       153430440  False                 look find boadilla   \n",
            "3               4       152776331  False  tecnocasa fuenlabrada ferrocarril   \n",
            "4               5       153180188  False            ferrari 57 inmobiliaria   \n",
            "...           ...             ...    ...                                ...   \n",
            "15330       15331       153901377  False                infocasa consulting   \n",
            "15331       15332       150394373  False                inmobiliaria pulpon   \n",
            "15332       15333       153901397  False             tecnocasa torrelodones   \n",
            "15333       15334       152607440  False                inmobiliaria pulpon   \n",
            "15334       15335       153901356  False                infocasa consulting   \n",
            "\n",
            "       phone_realEstate                                       url_inmueble  \\\n",
            "0           912177526.0  https://www.fotocasa.es/es/comprar/vivienda/ma...   \n",
            "1           916358736.0  https://www.fotocasa.es/es/comprar/vivienda/ma...   \n",
            "2           916350408.0  https://www.fotocasa.es/es/comprar/vivienda/ma...   \n",
            "3           916358736.0  https://www.fotocasa.es/es/comprar/vivienda/ma...   \n",
            "4           912177526.0  https://www.fotocasa.es/es/comprar/vivienda/ma...   \n",
            "...                 ...                                                ...   \n",
            "15330       911360461.0  https://www.fotocasa.es/es/comprar/vivienda/ma...   \n",
            "15331       912788039.0  https://www.fotocasa.es/es/comprar/vivienda/ma...   \n",
            "15332       912780348.0  https://www.fotocasa.es/es/comprar/vivienda/ma...   \n",
            "15333       912788039.0  https://www.fotocasa.es/es/comprar/vivienda/ma...   \n",
            "15334       911360461.0  https://www.fotocasa.es/es/comprar/vivienda/ma...   \n",
            "\n",
            "       rooms  bathrooms  surface   price  ... level4Id level5Id level6Id  \\\n",
            "0        3.0        2.0    103.0  195000  ...        0        0        0   \n",
            "1        3.0        1.0      NaN   89000  ...        0        0        0   \n",
            "2        2.0        2.0     99.0  390000  ...        0        0        0   \n",
            "3        3.0        1.0     86.0   89000  ...        0        0        0   \n",
            "4        2.0        2.0    106.0  172000  ...        0        0        0   \n",
            "...      ...        ...      ...     ...  ...      ...      ...      ...   \n",
            "15330    2.0        1.0     96.0  259470  ...        0        0        0   \n",
            "15331    3.0        1.0    150.0  165000  ...        0        0        0   \n",
            "15332    4.0        2.0    175.0  495000  ...        0        0        0   \n",
            "15333    3.0        2.0    101.0  195000  ...        0        0        0   \n",
            "15334    3.0        2.0    152.0  765000  ...        0        0        0   \n",
            "\n",
            "      level7Id level8Id accuracy          latitude          longitude zipCode  \\\n",
            "0            0        0        0  40,2948276786438  -3,44402412135624     NaN   \n",
            "1            0        0        1          40,28674           -3,79351     NaN   \n",
            "2            0        0        0  40,4115646786438  -3,90662252135624     NaN   \n",
            "3            0        0        0  40,2853785786438  -3,79508142135624     NaN   \n",
            "4            0        0        0  40,2998774864376  -3,45226301356237     NaN   \n",
            "...        ...      ...      ...               ...                ...     ...   \n",
            "15330        0        0        0          40,45416           -3,70286     NaN   \n",
            "15331        0        0        0          40,36652           -3,48951     NaN   \n",
            "15332        0        0        0          40,57444           -3,92124     NaN   \n",
            "15333        0        0        0          40,36967           -3,48105     NaN   \n",
            "15334        0        0        0          40,45773           -3,69068     NaN   \n",
            "\n",
            "      customZone  \n",
            "0            NaN  \n",
            "1            NaN  \n",
            "2            NaN  \n",
            "3            NaN  \n",
            "4            NaN  \n",
            "...          ...  \n",
            "15330        NaN  \n",
            "15331        NaN  \n",
            "15332        NaN  \n",
            "15333        NaN  \n",
            "15334        NaN  \n",
            "\n",
            "[15335 rows x 37 columns]\n",
            "Empty DataFrame\n",
            "Columns: [Unnamed: 0, id_realEstates, isNew, realEstate_name, phone_realEstate, url_inmueble, rooms, bathrooms, surface, price, date, description, address, country, level1, level2, level3, level4, level5, level6, level7, level8, upperLevel, countryId, level1Id, level2Id, level3Id, level4Id, level5Id, level6Id, level7Id, level8Id, accuracy, latitude, longitude, zipCode, customZone]\n",
            "Index: []\n",
            "\n",
            "[0 rows x 37 columns]\n"
          ]
        }
      ],
      "source": [
        "# TODO\n",
        "a= ds\n",
        "b= ds.dropna()\n",
        "\n",
        "print(a)\n",
        "print(b)"
      ]
    },
    {
      "attachments": {},
      "cell_type": "markdown",
      "id": "middle-china",
      "metadata": {},
      "source": [
        "#### Ejercicio 07. ¿Cuál la media de precios en la población (columna level5) de \"Arroyomolinos (Madrid)\"? (★★☆)\n",
        "\n",
        "Imprima el valor obtenido."
      ]
    },
    {
      "cell_type": "code",
      "execution_count": 91,
      "id": "nuclear-belief",
      "metadata": {},
      "outputs": [
        {
          "name": "stdout",
          "output_type": "stream",
          "text": [
            "294541.59854014596\n"
          ]
        }
      ],
      "source": [
        "# TODO\n",
        "\n",
        "\n",
        "arroyomolinos = ds[\n",
        "    (ds['level5'].str.contains('Arroyomolinos', case=False, na=False)) & \n",
        "    (ds['level1'].str.contains('Madrid', case=False, na=False))\n",
        "]\n",
        "\n",
        "precios = arroyomolinos['price']\n",
        "media = arroyomolinos['price'].mean()\n",
        "\n",
        "print(media) \n",
        "\n",
        "\n",
        "\n",
        "\n"
      ]
    },
    {
      "attachments": {},
      "cell_type": "markdown",
      "id": "concerned-radical",
      "metadata": {},
      "source": [
        "#### Ejercicio 08. Trazar el histograma de los precios para la población (level5 column) de \"Arroyomolinos (Madrid)\" y explica qué observas (★★☆)\n",
        "\n",
        "Imprime el histograma de los precios y escribe en la celda del Markdown un breve análisis del trazado.\n"
      ]
    },
    {
      "cell_type": "markdown",
      "id": "7b791cdd",
      "metadata": {},
      "source": []
    },
    {
      "cell_type": "code",
      "execution_count": 98,
      "id": "sudden-message",
      "metadata": {},
      "outputs": [
        {
          "data": {
            "image/png": "[encoded data removed]",
            "text/plain": [
              "<Figure size 640x480 with 1 Axes>"
            ]
          },
          "metadata": {},
          "output_type": "display_data"
        }
      ],
      "source": [
        "# TODO: Code\n",
        "import matplotlib.pyplot as plt\n",
        "import numpy as np\n",
        "precios.dropna()\n",
        "a= np.histogram(precios)\n",
        "\n",
        "plt.hist(a, bins='auto')\n",
        "plt.show()\n"
      ]
    },
    {
      "attachments": {},
      "cell_type": "markdown",
      "id": "impressed-combination",
      "metadata": {},
      "source": [
        "**TODO: Markdown**. Para escribir aquí, haz doble clic en esta celda, elimina este contenido y coloca lo que quieras escribir. Luego ejecuta la celda."
      ]
    },
    {
      "attachments": {},
      "cell_type": "markdown",
      "id": "actual-edinburgh",
      "metadata": {},
      "source": [
        "#### Ejercicio 09. ¿Son los precios promedios de \"Valdemorillo\" y \"Galapagar\" los mismos? (★★☆)\n",
        "\n",
        "Imprime ambos promedios y escribe una conclusión sobre ellos."
      ]
    },
    {
      "cell_type": "markdown",
      "id": "5616d649",
      "metadata": {},
      "source": [
        "Existe una diferencia de 3803 entre ellos"
      ]
    },
    {
      "cell_type": "code",
      "execution_count": 102,
      "id": "numeric-commerce",
      "metadata": {},
      "outputs": [
        {
          "name": "stdout",
          "output_type": "stream",
          "text": [
            "363860.2931034483\n",
            "360063.20238095237\n"
          ]
        }
      ],
      "source": [
        "# TODO\n",
        "\n",
        "\n",
        "valdemorillo = ds[\n",
        "    (ds['level5'].str.contains('Valdemorillo', case=False, na=False)) ]\n",
        "\n",
        "Galapar = ds[\n",
        "    (ds['level5'].str.contains('Galapagar', case=False, na=False)) ]\n",
        "\n",
        "\n",
        "\n",
        "print(valdemorillo['price'].mean())\n",
        "print(Galapar['price'].mean())\n"
      ]
    },
    {
      "attachments": {},
      "cell_type": "markdown",
      "id": "lonely-article",
      "metadata": {},
      "source": [
        "#### Ejercicio 10. ¿Son los promedios de precio por metro cuadrado (precio/m2) de \"Valdemorillo\" y \"Galapagar\" los mismos? (★★☆)\n",
        "\n",
        "Imprime ambos promedios de precio por metro cuadrado y escribe una conclusión sobre ellos.\n",
        "\n",
        "Pista: Crea una nueva columna llamada `pps` (*price per square* o precio por metro cuadrado) y luego analiza los valores."
      ]
    },
    {
      "cell_type": "markdown",
      "id": "f2d3f643",
      "metadata": {},
      "source": [
        "Existe una diferencia de 311 entre ellos"
      ]
    },
    {
      "cell_type": "code",
      "execution_count": 105,
      "id": "hourly-globe",
      "metadata": {},
      "outputs": [
        {
          "name": "stdout",
          "output_type": "stream",
          "text": [
            "1317.9502109024984\n",
            "1606.3240303094024\n"
          ]
        },
        {
          "name": "stderr",
          "output_type": "stream",
          "text": [
            "/var/folders/g4/7hyrcpn56334nkhbtmhpd7rc0000gn/T/ipykernel_41523/923976200.py:5: SettingWithCopyWarning: \n",
            "A value is trying to be set on a copy of a slice from a DataFrame.\n",
            "Try using .loc[row_indexer,col_indexer] = value instead\n",
            "\n",
            "See the caveats in the documentation: https://pandas.pydata.org/pandas-docs/stable/user_guide/indexing.html#returning-a-view-versus-a-copy\n",
            "  df_clean['price_m2'] = df_clean['price'] / df_clean['surface']\n"
          ]
        }
      ],
      "source": [
        "# TODO\n",
        "\n",
        "df_clean = ds[ds['surface'] > 0]  \n",
        "\n",
        "df_clean['price_m2'] = df_clean['price'] / df_clean['surface']\n",
        "\n",
        "\n",
        "valdemorillo = df_clean[df_clean['level5'].str.contains('Valdemorillo', case=False, na=False)]\n",
        "galapagar = df_clean[df_clean['level5'].str.contains('Galapagar', case=False, na=False)]\n",
        "\n",
        "uno = valdemorillo['price_m2']\n",
        "dos = galapagar['price_m2']\n",
        "\n",
        "print(uno.mean())\n",
        "print(dos.mean()) \n",
        "\n"
      ]
    },
    {
      "attachments": {},
      "cell_type": "markdown",
      "id": "pleasant-invite",
      "metadata": {},
      "source": [
        "#### Ejercicio 11. Analiza la relación entre la superficie y el precio de las casas. (★★☆)\n",
        "\n",
        "Pista: Puedes hacer un `scatter plot` y luego escribir una conclusión al respecto."
      ]
    },
    {
      "cell_type": "markdown",
      "id": "3dd94714",
      "metadata": {},
      "source": [
        "La casa mas amplia no es la mas cara, en cambio hay casas pequenas mas caras"
      ]
    },
    {
      "cell_type": "code",
      "execution_count": 119,
      "id": "common-drilling",
      "metadata": {},
      "outputs": [
        {
          "data": {
            "text/plain": [
              "<Axes: xlabel='surface', ylabel='price'>"
            ]
          },
          "execution_count": 119,
          "metadata": {},
          "output_type": "execute_result"
        },
        {
          "data": {
            "image/png": "[encoded data removed]",
            "text/plain": [
              "<Figure size 640x480 with 1 Axes>"
            ]
          },
          "metadata": {},
          "output_type": "display_data"
        }
      ],
      "source": [
        "# TODO: Código\n",
        "\n",
        "ds.plot.scatter( x='surface', y='price')"
      ]
    },
    {
      "attachments": {},
      "cell_type": "markdown",
      "id": "ahead-liquid",
      "metadata": {},
      "source": [
        "**TODO: Markdown**. Para escribir aquí, haz doble clic en esta celda, elimina este contenido y coloca lo que quieras escribir. Luego ejecuta la celda."
      ]
    },
    {
      "attachments": {},
      "cell_type": "markdown",
      "id": "coordinate-sunrise",
      "metadata": {},
      "source": [
        "#### Ejercicio 12. ¿Cuántas agencia de bienes raíces contiene el dataset? (★★☆)\n",
        "\n",
        "Imprime el valor obtenido."
      ]
    },
    {
      "cell_type": "code",
      "execution_count": 123,
      "id": "valid-honolulu",
      "metadata": {},
      "outputs": [
        {
          "name": "stdout",
          "output_type": "stream",
          "text": [
            "15325\n"
          ]
        }
      ],
      "source": [
        "# TODO\n",
        "suma = ds['realEstate_name'].count()\n",
        "print(suma) "
      ]
    },
    {
      "attachments": {},
      "cell_type": "markdown",
      "id": "binding-ebony",
      "metadata": {},
      "source": [
        "#### Ejercicio 13. ¿Cuál es la población (columna level5) que contiene la mayor cantidad de casas?(★★☆)\n",
        "\n",
        "Imprima la población y el número de casas."
      ]
    },
    {
      "cell_type": "code",
      "execution_count": 129,
      "id": "static-perry",
      "metadata": {},
      "outputs": [
        {
          "name": "stdout",
          "output_type": "stream",
          "text": [
            " Madrid Capital tiene 6643 propiedades\n"
          ]
        }
      ],
      "source": [
        "# TODO\n",
        "poblaciones = ds['level5'].value_counts().reset_index()\n",
        "\n",
        "poblaciones.columns = ['level5', 'house']\n",
        "a= poblaciones.iloc[0]\n",
        "\n",
        "print(f\"{a['level5']} tiene {a['house']} propiedades\")\n",
        "\n"
      ]
    },
    {
      "attachments": {},
      "cell_type": "markdown",
      "id": "entire-classification",
      "metadata": {},
      "source": [
        "#### Ejercicio 14. Ahora vamos a trabajar con el \"cinturón sur\" de Madrid. Haz un subconjunto del DataFrame original que contenga las siguientes poblaciones (columna level5): \"Fuenlabrada\", \"Leganés\", \"Getafe\", \"Alcorcón\" (★★☆)\n",
        "\n",
        "Pista: Filtra el DataFrame original usando la columna `level5` y la función `isin`."
      ]
    },
    {
      "cell_type": "code",
      "execution_count": null,
      "id": "binary-input",
      "metadata": {},
      "outputs": [
        {
          "name": "stdout",
          "output_type": "stream",
          "text": [
            "<bound method DataFrame.value_counts of        Unnamed: 0  id_realEstates  isNew  \\\n",
            "1               2       153867863  False   \n",
            "3               4       152776331  False   \n",
            "85             86       153152077  False   \n",
            "94             95       153995577  False   \n",
            "109           110       153586414  False   \n",
            "...           ...             ...    ...   \n",
            "15275       15276       153903887  False   \n",
            "15291       15292       151697757  False   \n",
            "15305       15306       153902389  False   \n",
            "15322       15323       153871864  False   \n",
            "15325       15326       153901467  False   \n",
            "\n",
            "                                 realEstate_name  phone_realEstate  \\\n",
            "1              tecnocasa fuenlabrada ferrocarril       916358736.0   \n",
            "3              tecnocasa fuenlabrada ferrocarril       916358736.0   \n",
            "85                       sinergical inmobiliaria               NaN   \n",
            "94                               viviendas365com       911226014.0   \n",
            "109              area uno asesores inmobiliarios       912664081.0   \n",
            "...                                          ...               ...   \n",
            "15275  aliseda servicios de gestion inmobiliaria       911368198.0   \n",
            "15291                                    unipiso       912788631.0   \n",
            "15305                             jadein ferrero       914871639.0   \n",
            "15322                          gestion comercial       911220662.0   \n",
            "15325                              montehogar 68       911790675.0   \n",
            "\n",
            "                                            url_inmueble  rooms  bathrooms  \\\n",
            "1      https://www.fotocasa.es/es/comprar/vivienda/ma...    3.0        1.0   \n",
            "3      https://www.fotocasa.es/es/comprar/vivienda/ma...    3.0        1.0   \n",
            "85     https://www.fotocasa.es/es/comprar/vivienda/le...    1.0        1.0   \n",
            "94     https://www.fotocasa.es/es/comprar/vivienda/le...    3.0        2.0   \n",
            "109    https://www.fotocasa.es/es/comprar/vivienda/ma...    3.0        3.0   \n",
            "...                                                  ...    ...        ...   \n",
            "15275  https://www.fotocasa.es/es/comprar/vivienda/al...    3.0        1.0   \n",
            "15291  https://www.fotocasa.es/es/comprar/vivienda/al...    3.0        2.0   \n",
            "15305  https://www.fotocasa.es/es/comprar/vivienda/ma...    3.0        2.0   \n",
            "15322  https://www.fotocasa.es/es/comprar/vivienda/ma...    3.0        1.0   \n",
            "15325  https://www.fotocasa.es/es/comprar/vivienda/ma...    2.0        2.0   \n",
            "\n",
            "       surface   price  ... level4Id level5Id level6Id level7Id level8Id  \\\n",
            "1          NaN   89000  ...        0        0        0        0        0   \n",
            "3         86.0   89000  ...        0        0        0        0        0   \n",
            "85        50.0  107000  ...        0        0        0        0        0   \n",
            "94       120.0  320000  ...        0        0        0        0        0   \n",
            "109      142.0  425000  ...        0        0        0        0        0   \n",
            "...        ...     ...  ...      ...      ...      ...      ...      ...   \n",
            "15275     78.0  138000  ...        0        0        0        0        0   \n",
            "15291    110.0  279000  ...        0        0        0        0        0   \n",
            "15305     85.0  170000  ...        0        0        0        0        0   \n",
            "15322     91.0  112000  ...        0        0        0        0        0   \n",
            "15325     99.0  215000  ...        0        0        0        0        0   \n",
            "\n",
            "      accuracy          latitude          longitude zipCode customZone  \n",
            "1            1          40,28674           -3,79351     NaN        NaN  \n",
            "3            0  40,2853785786438  -3,79508142135624     NaN        NaN  \n",
            "85           1          40,35059           -3,82693     NaN        NaN  \n",
            "94           0          40,31933           -3,77574     NaN        NaN  \n",
            "109          0        40,3313411         -3,8313868     NaN        NaN  \n",
            "...        ...               ...                ...     ...        ...  \n",
            "15275        1          40,31381           -3,83733     NaN        NaN  \n",
            "15291        0        40,3259051           -3,76318     NaN        NaN  \n",
            "15305        0        40,2882193         -3,8098617     NaN        NaN  \n",
            "15322        0          40,28282           -3,78892     NaN        NaN  \n",
            "15325        1          40,28062           -3,79869     NaN        NaN  \n",
            "\n",
            "[907 rows x 37 columns]>\n"
          ]
        }
      ],
      "source": [
        "# TODO\n",
        "b  = ds['level5']\n",
        "poblaciones_s = ['Fuenlabrada', 'Leganés', 'Getafe', 'Alcorcón']\n",
        "s = ds[ds['level5'].isin(poblaciones_s)].copy()\n",
        "\n",
        "print(s.value_counts)"
      ]
    },
    {
      "attachments": {},
      "cell_type": "markdown",
      "id": "severe-fisher",
      "metadata": {},
      "source": [
        "#### Ejercicio 15. Traza un gráfico de barras de la mediana de los precios y explica lo que observas (debes usar el subconjunto obtenido del Ejercicio 14) (★★★)\n",
        "\n",
        "Imprima un gráfico de barras de la mediana de precios y escriba en la celda Markdown un breve análisis sobre el gráfico."
      ]
    },
    {
      "cell_type": "code",
      "execution_count": 149,
      "id": "lyric-bunch",
      "metadata": {},
      "outputs": [
        {
          "name": "stdout",
          "output_type": "stream",
          "text": [
            "223094.48070562293\n"
          ]
        },
        {
          "data": {
            "image/png": "[encoded data removed]",
            "text/plain": [
              "<Figure size 640x480 with 1 Axes>"
            ]
          },
          "metadata": {},
          "output_type": "display_data"
        }
      ],
      "source": [
        "# TODO: Code\n",
        "precio_sur = s['price'].mean()\n",
        "print(precio_sur)\n",
        "\n",
        "plt.hist(precio_sur, bins='auto')\n",
        "plt.show()"
      ]
    },
    {
      "attachments": {},
      "cell_type": "markdown",
      "id": "sublime-newspaper",
      "metadata": {},
      "source": [
        "**TODO: Markdown**. Para escribir aquí, haz doble clic en esta celda, elimina este contenido y coloca lo que quieras escribir. Luego ejecuta la celda."
      ]
    },
    {
      "attachments": {},
      "cell_type": "markdown",
      "id": "speaking-diamond",
      "metadata": {},
      "source": [
        "#### Ejercicio 16. Calcula la media y la varianza de muestra para las siguientes variables: precio, habitaciones, superficie y baños (debes usar el subconjunto obtenido del Ejercicio 14) (★★★)\n",
        "\n",
        "Imprime ambos valores por cada variable."
      ]
    },
    {
      "cell_type": "code",
      "execution_count": 153,
      "id": "random-feeling",
      "metadata": {},
      "outputs": [
        {
          "name": "stdout",
          "output_type": "stream",
          "text": [
            "La varianza de precios es 14921367508.04902 y su media es de 223094.48070562293\n",
            "La varianza de habitaciones es 0.7188858892927542 y su media es de 3.0177383592017737\n",
            "La varianza de superficie es 4263.051760316337 y su media es de 111.75222363405337\n",
            "La varianza de banos es 0.5717968625577321 y su media es de 1.633221850613155\n"
          ]
        }
      ],
      "source": [
        "# TODO\n",
        "# media y varianza \n",
        "pre = s['price']\n",
        "hab = s['rooms']\n",
        "sup = s['surface']\n",
        "ban = s['bathrooms']\n",
        "p = ds[ds['level5'].isin(pre)].copy()\n",
        "ha = ds[ds['level5'].isin(hab)].copy()\n",
        "su = ds[ds['level5'].isin(sup)].copy()\n",
        "ba = ds[ds['level5'].isin(ban)].copy()\n",
        "\n",
        "print(f'La varianza de precios es {pre.var()} y su media es de {pre.mean()}')\n",
        "print(f'La varianza de habitaciones es {hab.var()} y su media es de {hab.mean()}')\n",
        "print(f'La varianza de superficie es {sup.var()} y su media es de {sup.mean()}')\n",
        "print(f'La varianza de banos es {ban.var()} y su media es de {ban.mean()}')"
      ]
    },
    {
      "attachments": {},
      "cell_type": "markdown",
      "id": "revolutionary-matrix",
      "metadata": {},
      "source": [
        "#### Ejercicio 17. ¿Cuál es la casa más cara de cada población? Debes usar el subset obtenido en la pregunta 14 (★★☆)\n",
        "\n",
        "Imprime tanto la dirección como el precio de la casa seleccionada de cada población. Puedes imprimir un DataFrame o una sola línea para cada población."
      ]
    },
    {
      "cell_type": "code",
      "execution_count": 14,
      "id": "fifteen-browse",
      "metadata": {},
      "outputs": [
        {
          "name": "stdout",
          "output_type": "stream",
          "text": [
            "La casa mas cara en Fuenlabrada  esta en ['Calle de Paulo Freire, 5, Fuenlabrada'] y cuesta 490000\n",
            "La casa mas cara en Fuenlabrada  esta en ['Avenida Reina Sofía, Leganés'] y cuesta 650000\n",
            "La casa mas cara en Fuenlabrada  esta en ['Getafe'] y cuesta 1050000\n",
            "La casa mas cara en Fuenlabrada  esta en ['Alcorcón'] y cuesta 950000\n"
          ]
        }
      ],
      "source": [
        "# TODO\n",
        "import pandas as pd\n",
        "ds = pd.read_csv('assets/real_estate.csv', sep=';')\n",
        "\n",
        "b  = ds['level5']\n",
        "un = ds[ds['level5'].isin(['Fuenlabrada'])].copy()\n",
        "do = ds[ds['level5'].isin(['Leganés'])].copy()\n",
        "tr = ds[ds['level5'].isin(['Getafe'])].copy()\n",
        "cu = ds[ds['level5'].isin(['Alcorcón'])].copy()\n",
        "\n",
        "precio_maxun = un['price'].max()\n",
        "precio_maxdo = do['price'].max()\n",
        "precio_maxtr = tr['price'].max()\n",
        "precio_maxcu = cu['price'].max()\n",
        "\n",
        "\n",
        "casacFuen = un[un['price'] == precio_maxun]\n",
        "casacLeg =  do[do['price'] == precio_maxdo]\n",
        "casacGet =  tr[tr['price'] == precio_maxtr]\n",
        "casacAlc =  cu[cu['price'] == precio_maxcu]\n",
        "\n",
        "print(f'La casa mas cara en Fuenlabrada  esta en {casacFuen.address.values} y cuesta {precio_maxun}')\n",
        "print(f'La casa mas cara en Fuenlabrada  esta en {casacLeg.address.values} y cuesta {precio_maxdo}')\n",
        "print(f'La casa mas cara en Fuenlabrada  esta en {casacGet.address.values} y cuesta {precio_maxtr}')\n",
        "print(f'La casa mas cara en Fuenlabrada  esta en {casacAlc.address.values} y cuesta {precio_maxcu}')\n",
        "\n"
      ]
    },
    {
      "attachments": {},
      "cell_type": "markdown",
      "id": "activated-knight",
      "metadata": {},
      "source": [
        "#### Ejercicio 18. Normaliza la variable de precios para cada población y traza los 4 histogramas en el mismo gráfico (debes usar el subconjunto obtenido en la pregunta 14) (★★★)\n",
        "\n",
        "Para el método de normalización, puedes usar el que consideres adecuado, no hay una única respuesta correcta para esta pregunta. Imprime el gráfico y escribe en la celda de Markdown un breve análisis sobre el gráfico.\n",
        "\n",
        "Pista: Puedes ayudarte revisando la demostración multihist de Matplotlib."
      ]
    },
    {
      "cell_type": "code",
      "execution_count": 33,
      "id": "civic-meditation",
      "metadata": {},
      "outputs": [
        {
          "data": {
            "image/png": "[encoded data removed]",
            "text/plain": [
              "<Figure size 640x480 with 1 Axes>"
            ]
          },
          "metadata": {},
          "output_type": "display_data"
        }
      ],
      "source": [
        "# TODO\n",
        "import matplotlib.pyplot as plt\n",
        "import numpy\n",
        "from matplotlib import pyplot\n",
        "\n",
        "# Fuenlabrada', 'Leganés', 'Getafe', 'Alcorcón'\n",
        "\n",
        "data = un['price']\n",
        "datado = do['price']\n",
        "datatr = tr['price']\n",
        "datacu = cu['price']\n",
        "\n",
        "plt.hist(data, \n",
        "         alpha=0.5, \n",
        "         label='precio_fuenlabrada',\n",
        "         color='red')\n",
        "\n",
        "plt.hist(datado, \n",
        "         alpha=0.5,\n",
        "         label='precio_Leganes',\n",
        "         color='green')\n",
        "\n",
        "plt.hist(datatr, \n",
        "         alpha=0.5,\n",
        "         label='precio_Getafe',\n",
        "         color='yellow')\n",
        "\n",
        "plt.hist(datacu, \n",
        "         alpha=0.5,\n",
        "         label='precio_Alcorcon',\n",
        "         color='purple')\n",
        "\n",
        "plt.legend(loc='upper right')\n",
        "plt.show()\n"
      ]
    },
    {
      "attachments": {},
      "cell_type": "markdown",
      "id": "patent-jonathan",
      "metadata": {},
      "source": [
        "#### Ejercicio 19. ¿Qué puedes decir sobre el precio por metro cuadrado (precio/m2) entre los municipios de 'Getafe' y 'Alcorcón'? Debes usar el subconjunto obtenido en la pregunta 14 (★★☆)\n",
        "\n",
        "Pista: Crea una nueva columna llamada `pps` (price per square en inglés) y luego analiza los valores"
      ]
    },
    {
      "attachments": {},
      "cell_type": "markdown",
      "id": "precise-heavy",
      "metadata": {},
      "source": [
        "**TODO: Markdown**. Para escribir aquí, haz doble clic en esta celda, elimina este contenido y coloca lo que quieras escribir. Luego ejecuta la celda."
      ]
    },
    {
      "cell_type": "markdown",
      "id": "ac1cb9b6",
      "metadata": {},
      "source": [
        "Hay una pequena diferencia entre los m2 y el precio en las dos localidades, por lo cual en las dos casi encontramos casas que valen lo mismo con casi los mismos metros cuadrados"
      ]
    },
    {
      "cell_type": "code",
      "execution_count": 30,
      "id": "initial-liverpool",
      "metadata": {},
      "outputs": [
        {
          "name": "stdout",
          "output_type": "stream",
          "text": [
            "2239.302480199618\n",
            "2174.5934618759934\n"
          ]
        }
      ],
      "source": [
        "# TODO\n",
        "\n",
        "df_clean = ds[ds['surface'] > 0] \n",
        "df_clean = ds[ds['price'] > 0] \n",
        "\n",
        "\n",
        "df_clean['price_m2'] = df_clean['price'] / df_clean['surface']\n",
        "\n",
        "Getafe = df_clean[df_clean['level5'].str.contains('Getafe', case=False, na=False)]\n",
        "Alcorcon = df_clean[df_clean['level5'].str.contains('Alcorcón', case=False, na=False)]\n",
        "\n",
        "uno = Alcorcon['price_m2']\n",
        "dos = Getafe['price_m2']\n",
        "\n",
        "print(uno.mean())\n",
        "print(dos.mean()) \n",
        "\n",
        "\n"
      ]
    },
    {
      "attachments": {},
      "cell_type": "markdown",
      "id": "enhanced-moscow",
      "metadata": {},
      "source": [
        "#### Ejercicio 20. Realiza el mismo gráfico para 4 poblaciones diferentes (columna level5) y colócalos en el mismo gráfico. Debes usar el subconjunto obtenido en la pregunta 14 (★★☆) \n",
        "Pista: Haz un diagrama de dispersión de cada población usando subgráficos (subplots)."
      ]
    },
    {
      "cell_type": "code",
      "execution_count": 39,
      "id": "accepting-airfare",
      "metadata": {},
      "outputs": [
        {
          "name": "stderr",
          "output_type": "stream",
          "text": [
            "/var/folders/g4/7hyrcpn56334nkhbtmhpd7rc0000gn/T/ipykernel_940/1261839638.py:27: UserWarning: No artists with labels found to put in legend.  Note that artists whose label start with an underscore are ignored when legend() is called with no argument.\n",
            "  plt.legend(loc='upper right')\n"
          ]
        },
        {
          "data": {
            "image/png": "[encoded data removed]",
            "text/plain": [
              "<Figure size 1400x1000 with 4 Axes>"
            ]
          },
          "metadata": {},
          "output_type": "display_data"
        }
      ],
      "source": [
        "# TODO\n",
        "import matplotlib.pyplot as plt\n",
        "import numpy\n",
        "from matplotlib import pyplot\n",
        "\n",
        "\n",
        "poblaciones = {\n",
        "    'Arganda del Rey': ds[ds['level5'].isin(['Arganda del Rey'])].copy(),\n",
        "    'Fuenlabrada': ds[ds['level5'].isin(['Fuenlabrada'])].copy(),\n",
        "    'Boadilla del Monte': ds[ds['level5'].isin(['Boadilla del Monte'])].copy(),\n",
        "    'Velilla de San Antonio': ds[ds['level5'].isin(['Velilla de San Antonio'])].copy()\n",
        "}\n",
        "\n",
        "\n",
        "fig, axes = plt.subplots(2, 2, figsize=(14, 10))\n",
        "colors = ['skyblue', 'red', 'yellow', 'black']\n",
        "\n",
        "for ax, (poblacion, data), color in zip(axes.flatten(), poblaciones.items(), colors):\n",
        "    # Histograma\n",
        "    ax.hist(data['price'], bins=20, alpha=0.7, color=color, edgecolor='black')\n",
        "    ax.set_title(poblacion, fontsize=12)\n",
        "    ax.set_xlabel('Precio')\n",
        "    ax.set_ylabel('Casas')\n",
        "    ax.grid(axis='y', linestyle='--', alpha=0.4)\n",
        "\n",
        "    \n",
        "plt.legend(loc='upper right')\n",
        "plt.show()\n",
        "\n"
      ]
    },
    {
      "attachments": {},
      "cell_type": "markdown",
      "id": "blocked-effects",
      "metadata": {},
      "source": [
        "#### Ejercicio 21. Realiza un trazado de las coordenadas (columnas latitud y longitud) del cinturón sur de Madrid por color de cada población (debes usar el subconjunto obtenido del Ejercicio 14) (★★★★)\n",
        "\n",
        "Ejecuta la siguiente celda y luego comienza a codear en la siguiente. Debes implementar un código simple que transforme las columnas de coordenadas en un diccionario de Python (agrega más información si es necesario) y agrégala al mapa."
      ]
    },
    {
      "cell_type": "code",
      "execution_count": null,
      "id": "headed-privacy",
      "metadata": {},
      "outputs": [
        {
          "data": {
            "application/vnd.jupyter.widget-view+json": {
              "model_id": "eecb16c5c9b44294b4c9f81aa9178e03",
              "version_major": 2,
              "version_minor": 0
            },
            "text/plain": [
              "Map(center=[40.35, -3.8], controls=(ZoomControl(options=['position', 'zoom_in_text', 'zoom_in_title', 'zoom_ou…"
            ]
          },
          "execution_count": 40,
          "metadata": {},
          "output_type": "execute_result"
        }
      ],
      "source": [
        "from ipyleaflet import Map, basemaps\n",
        "\n",
        "# Mapa centrado en Madrid\n",
        "map = Map(center = (40.35, -3.8), zoom = 11.5, min_zoom = 1, max_zoom = 20, \n",
        "    basemap=basemaps.OpenStreetMap.Mapnik)\n",
        "map\n",
        "\n",
        "\n",
        "\n",
        "\n"
      ]
    },
    {
      "cell_type": "code",
      "execution_count": 79,
      "id": "present-mistress",
      "metadata": {},
      "outputs": [
        {
          "name": "stdout",
          "output_type": "stream",
          "text": [
            "          level5   latitude  longitude\n",
            "1    Fuenlabrada  40.286740  -3.793510\n",
            "3    Fuenlabrada  40.285379  -3.795081\n",
            "85      Alcorcón  40.350590  -3.826930\n",
            "94       Leganés  40.319330  -3.775740\n",
            "109     Alcorcón  40.331341  -3.831387\n"
          ]
        },
        {
          "data": {
            "application/vnd.jupyter.widget-view+json": {
              "model_id": "2d6253af43914e0e918b648c51f291c1",
              "version_major": 2,
              "version_minor": 0
            },
            "text/plain": [
              "Map(center=[np.float64(40.28674), np.float64(-3.79351)], controls=(ZoomControl(options=['position', 'zoom_in_t…"
            ]
          },
          "metadata": {},
          "output_type": "display_data"
        }
      ],
      "source": [
        "## Aquí: traza la coordenadas de los estados\n",
        "from ipyleaflet import Map, basemaps, Marker, MarkerCluster\n",
        "ds = pd.read_csv('assets/real_estate.csv', sep=';', decimal=',')\n",
        "\n",
        "## PON TU CÓDIGO AQUÍ:\n",
        "poblaciones_sur = ['Fuenlabrada', 'Leganés', 'Getafe', 'Alcorcón']\n",
        "o = ds[ds['level5'].isin(poblaciones_sur)].copy()\n",
        "\n",
        "o['latitude'] = pd.to_numeric(o['latitude'])\n",
        "o['longitude'] = pd.to_numeric(o['longitude'])\n",
        "\n",
        "o = o[\n",
        "    (o['latitude'].between(-90, 90)) & \n",
        "    (o['longitude'].between(-180, 180))\n",
        "]\n",
        "\n",
        "coord = o[['level5', 'latitude', 'longitude']]\n",
        "\n",
        "\n",
        "print(o[['level5', 'latitude', 'longitude']].head())\n",
        "\n",
        "mapa = Map(\n",
        "        center=(o.iloc[0]['latitude'], o.iloc[0]['longitude']),\n",
        "        basemap=basemaps.OpenStreetMap.Mapnik,\n",
        "    )\n",
        "\n",
        "for _, row in o.iterrows():\n",
        "        marker = Marker(location=(row['latitude'], row['longitude']))\n",
        "        mapa.add_layer(marker)\n",
        "\n",
        "display(mapa)\n",
        "\n"
      ]
    },
    {
      "cell_type": "code",
      "execution_count": null,
      "id": "77a66099",
      "metadata": {},
      "outputs": [],
      "source": []
    }
  ],
  "metadata": {
    "kernelspec": {
      "display_name": "Python 3",
      "language": "python",
      "name": "python3"
    },
    "language_info": {
      "codemirror_mode": {
        "name": "ipython",
        "version": 3
      },
      "file_extension": ".py",
      "mimetype": "text/x-python",
      "name": "python",
      "nbconvert_exporter": "python",
      "pygments_lexer": "ipython3",
      "version": "3.13.3"
    }
  },
  "nbformat": 4,
  "nbformat_minor": 5
}
